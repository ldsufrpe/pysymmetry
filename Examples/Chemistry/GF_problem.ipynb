{
 "cells": [
  {
   "cell_type": "code",
   "execution_count": 1,
   "id": "c9b7f9b6",
   "metadata": {},
   "outputs": [],
   "source": [
    "import sys\n",
    "import os\n",
    "# Adds the project root directory to the Python path.\n",
    "# The notebook is in 'Examples/Chemistry', so we need to go up two levels.\n",
    "project_root = os.path.abspath('../..')\n",
    "if project_root not in sys.path:\n",
    "    sys.path.insert(0, project_root)"
   ]
  },
  {
   "cell_type": "code",
   "execution_count": null,
   "id": "279c8a26",
   "metadata": {},
   "outputs": [
    {
     "name": "stdout",
     "output_type": "stream",
     "text": [
      "[['degree', 'multiplicity'], [1, 2], [1, 1]]\n"
     ]
    },
    {
     "data": {
      "text/html": [
       "<html>\\(\\displaystyle \\left(\\begin{array}{rrr}\n",
       "{\\left(f_{11} + f_{12}\\right)} {\\left(g_{11} + g_{21}\\right)} & 2 \\, {\\left(f_{11} + f_{12}\\right)} g_{13} & 0 \\\\\n",
       "f_{33} g_{13} & f_{33} g_{33} & 0 \\\\\n",
       "0 & 0 & {\\left(f_{11} - f_{12}\\right)} {\\left(g_{11} - g_{21}\\right)}\n",
       "\\end{array}\\right)\\)</html>"
      ],
      "text/latex": [
       "$\\displaystyle \\left(\\begin{array}{rrr}\n",
       "{\\left(f_{11} + f_{12}\\right)} {\\left(g_{11} + g_{21}\\right)} & 2 \\, {\\left(f_{11} + f_{12}\\right)} g_{13} & 0 \\\\\n",
       "f_{33} g_{13} & f_{33} g_{33} & 0 \\\\\n",
       "0 & 0 & {\\left(f_{11} - f_{12}\\right)} {\\left(g_{11} - g_{21}\\right)}\n",
       "\\end{array}\\right)$"
      ],
      "text/plain": [
       "[(f11 + f12)*(g11 + g21)       2*(f11 + f12)*g13                       0]\n",
       "[                f33*g13                 f33*g33                       0]\n",
       "[                      0                       0 (f11 - f12)*(g11 - g21)]"
      ]
     },
     "metadata": {},
     "output_type": "display_data"
    }
   ],
   "source": [
    "    from pysymmetry import *\n",
    "    ## --Defining C2v Group as permutation Group\n",
    "    generators = [[2, 1, 4, 3],[1, 2, 4, 3],[2, 1, 3, 4]]\n",
    "    C2v = FiniteGroup(generators)\n",
    "    gens = [C2v(x) for x in generators ]\n",
    "    ## Matrices of permutations of atoms\n",
    "    C2     = matrix(3, 3, [[0 ,1 ,0],[1 ,0 ,0],[0, 0, 1]])\n",
    "    sigmavxy  = matrix(3, 3, [[1, 0, 0], [0, 1, 0],[0 ,0 ,1]])\n",
    "    sigmavyz  = matrix(3, 3,[[0 ,1 ,0],[1, 0, 0],[0, 0, 1]])\n",
    "    matrices = [C2, sigmavxy, sigmavyz]\n",
    "    ## Defining the representation\n",
    "    rep = representation(gens, matrices)\n",
    "    ## Findind the symmetry adapted basis\n",
    "    beta = C2v.base_equivariant_to_blocks(rep)\n",
    "    beta\n",
    "    ## Giving a preview of the block decomposition\n",
    "    print(C2v.quick_block_prevision(rep))\n",
    "    ## Defining the matrices F and G as simbolic variables\n",
    "    f11, f12, f33 = var('f11,f12,f33')\n",
    "    g11, g21, g13, g33 = var('g11,g21,g13,g33')\n",
    "    F_H2O = matrix(3, 3, [[f11, f12, 0],[f12, f11, 0],[0, 0, f33]])\n",
    "    G_H2O = matrix(3, 3, [[g11, g21, g13], [g21, g11, g13], [g13, g13, g33]])\n",
    "    ## Finding matrices F and G at the new basis\n",
    "    F_new = beta.inverse()*F_H2O*beta\n",
    "    G_new = beta.inverse()*G_H2O*beta\n",
    "    FG_new = F_new*G_new\n",
    "    show(FG_new)"
   ]
  },
  {
   "cell_type": "code",
   "execution_count": null,
   "id": "a1c29ab1",
   "metadata": {},
   "outputs": [],
   "source": []
  }
 ],
 "metadata": {
  "kernelspec": {
   "display_name": "SageMath 10.4",
   "language": "sage",
   "name": "sagemath"
  },
  "language_info": {
   "codemirror_mode": {
    "name": "ipython",
    "version": 3
   },
   "file_extension": ".py",
   "mimetype": "text/x-python",
   "name": "sage",
   "nbconvert_exporter": "python",
   "pygments_lexer": "ipython3",
   "version": "3.11.10"
  }
 },
 "nbformat": 4,
 "nbformat_minor": 5
}
