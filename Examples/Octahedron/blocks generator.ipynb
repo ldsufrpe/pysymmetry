{
 "cells": [
  {
   "cell_type": "markdown",
   "metadata": {},
   "source": [
    "\n",
    "### Blocks Generator - Octahedron\n",
    "\n"
   ]
  },
  {
   "cell_type": "code",
   "execution_count": null,
   "metadata": {},
   "outputs": [],
   "source": [
    "def MatrizS(posicoes):\n",
    "    n=len(posicoes) #Numero de Corpos\n",
    "    d=posicoes[0].nrows() #Dimensao do Espaco\n",
    "    def Coluna(j):\n",
    "        def Q(i,j,c):\n",
    "            def norma(v):\n",
    "                n=(transpose(v)*v)[0][0]\n",
    "                return sqrt(n)\n",
    "            if i==j:\n",
    "                k=posicoes[i]-posicoes[j];\n",
    "            else:\n",
    "                k=(1/(norma(posicoes[i]-posicoes[j]))^3 -c)*(posicoes[j]-posicoes[i]);\n",
    "            return k\n",
    "        colunatransposta=[Q(i,j,c)[k][0]  for i in range(n) for k in range(d)]\n",
    "        return colunatransposta\n",
    "    s=[Coluna(j) for j in range(n)]\n",
    "    MatrizTranspostaS=matrix(s)\n",
    "    S=transpose(MatrizTranspostaS)\n",
    "    Scorreta=S.apply_map(lambda x: x.expand())\n",
    "    return Scorreta"
   ]
  },
  {
   "cell_type": "code",
   "execution_count": 4,
   "metadata": {},
   "outputs": [],
   "source": [
    "c = var('c');\n",
    "t = var('t');\n",
    "assume(t>0, t<1)\n",
    "#assume(c, 'real')\n",
    "positions_stacked_octahedron=[matrix([[1],[0],[0]]),\n",
    "                              matrix([[-1],[0],[0]]),matrix([[0],[1],[0]]),\n",
    "                              matrix([[0],[-1],[0]]),matrix([[0],[0],[1]]),\n",
    "                              matrix([[0],[0],[-1]]),matrix([[t],[0],[0]]),\n",
    "                              matrix([[-t],[0],[0]]),matrix([[0],[t],[0]]),\n",
    "                              matrix([[0],[-t],[0]]),matrix([[0],[0],[t]]),\n",
    "                              matrix([[0],[0],[-t]])];\n",
    "\n",
    "posicoes = positions_stacked_octahedron\n",
    "S_Octahedron = MatrizS(positions_stacked_octahedron)\n",
    "S = S_Octahedron.transpose()*S_Octahedron()\n",
    "###https://en.wikipedia.org/wiki/Octahedral_symmetry#Rotation_matrices\n",
    "r0=matrix([[1,0,0],[0,1,0],[0,0,-1]]) \n",
    "r1=matrix([[1,0,0],[0,0,1],[0,1,0]]) \n",
    "r2=matrix([[0,1,0],[1,0,0],[0,0,1]]) \n",
    "matrizes_de_simetria = [r0,r1,r2]"
   ]
  },
  {
   "cell_type": "code",
   "execution_count": 5,
   "metadata": {},
   "outputs": [],
   "source": [
    "geradores=[]\n",
    "for matriz in matrizes_de_simetria:\n",
    "    string=[posicoes.index(matriz*x)+1 for x in posicoes]\n",
    "    geradores.append(string)"
   ]
  },
  {
   "cell_type": "code",
   "execution_count": 6,
   "metadata": {},
   "outputs": [],
   "source": [
    "import sys \n",
    "sys.path.append('../')\n",
    "from pysymmetry_dev01 import *\n",
    "\n",
    "G = Group(geradores)\n",
    "rep = G.natural_representation()\n",
    "P = G.base_change_eigenvalue_reduction_new(rep) \n",
    "blocos = P.get_blocks(S)\n"
   ]
  },
  {
   "cell_type": "code",
   "execution_count": 7,
   "metadata": {},
   "outputs": [],
   "source": [
    "B1, B2, B3 = blocos"
   ]
  },
  {
   "cell_type": "code",
   "execution_count": 8,
   "metadata": {},
   "outputs": [],
   "source": [
    "save(B1, 'B1')\n",
    "save(B2, 'B2')\n",
    "save(B3, 'B3')"
   ]
  },
  {
   "cell_type": "markdown",
   "metadata": {},
   "source": [
    "### Matrix with the new base\n",
    "\n",
    "\\begin{equation*}\n",
    " \\begin{bmatrix}\n",
    "p_{00} &  p_{01} & 0 & 0 & 0 & 0\\\\\n",
    "p_{10} &  p_{11} & 0 & 0 & 0 & 0\\\\\n",
    "0 & 0 & p_{22} & p_{23} & 0 & 0\\\\\n",
    "0 & 0 &  p_{32} & p_{33} & 0 & 0\\\\\n",
    "0 & 0 & 0  & 0 & p_{44} & p_{45} \\\\\n",
    "0 & 0 & 0 & 0 & p_{54} & p_{54}\n",
    "\\end{bmatrix}\n",
    "\\end{equation*}"
   ]
  },
  {
   "cell_type": "code",
   "execution_count": null,
   "metadata": {},
   "outputs": [],
   "source": []
  }
 ],
 "metadata": {
  "kernelspec": {
   "display_name": "SageMath 9.0",
   "language": "sage",
   "name": "sagemath"
  },
  "language_info": {
   "codemirror_mode": {
    "name": "ipython",
    "version": 3
   },
   "file_extension": ".py",
   "mimetype": "text/x-python",
   "name": "python",
   "nbconvert_exporter": "python",
   "pygments_lexer": "ipython3",
   "version": "3.8.5"
  }
 },
 "nbformat": 4,
 "nbformat_minor": 4
}
