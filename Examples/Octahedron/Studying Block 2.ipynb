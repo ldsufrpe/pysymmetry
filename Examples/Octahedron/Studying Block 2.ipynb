{
 "cells": [
  {
   "cell_type": "markdown",
   "metadata": {},
   "source": [
    "### Studying Block 2\n",
    "\n",
    "\\begin{equation*}\n",
    " \\det\\left(\\begin{bmatrix}\n",
    "p_{22} &  p_{23} \\\\\n",
    "p_{32} &  p_{33}\n",
    "\\end{bmatrix}\\right)=p_{22}p_{33} - p_{23}^2\n",
    "\\end{equation*}\n"
   ]
  },
  {
   "cell_type": "code",
   "execution_count": 1,
   "metadata": {},
   "outputs": [],
   "source": [
    "def simplify_local(p, repeat=2):\n",
    "    c = var('c')    \n",
    "    i=0\n",
    "    while i<repeat:\n",
    "        p = p.collect(c).combine(deep=True)\n",
    "        lst0 = p.coefficients(c)    \n",
    "        lst = []    \n",
    "        for l0 in lst0:\n",
    "            expr0, k = l0\n",
    "            lst1 = expr0.operands()\n",
    "            if len(lst1)<2:\n",
    "                lst.append(expr0*c^k)\n",
    "            for expr1 in lst1:\n",
    "                try:\n",
    "                    expr1 = expr1.canonicalize_radical().factor()\n",
    "                except AttributeError:\n",
    "                    continue\n",
    "                #if len(p.variables())==1:\n",
    "                #    pass\n",
    "                expr1 = expr1*c^k\n",
    "                lst.append(expr1)\n",
    "        p = sum(lst).collect(c).combine(deep=True)\n",
    "        i+=1\n",
    "    return p"
   ]
  },
  {
   "cell_type": "code",
   "execution_count": 12,
   "metadata": {},
   "outputs": [],
   "source": [
    "B2 = load('B2')\n",
    "var('t')\n",
    "assume(t>0, t<1)"
   ]
  },
  {
   "cell_type": "markdown",
   "metadata": {},
   "source": [
    "### Block Entries "
   ]
  },
  {
   "cell_type": "code",
   "execution_count": 13,
   "metadata": {},
   "outputs": [
    {
     "data": {
      "text/html": [
       "<html><script type=\"math/tex; mode=display\">\\newcommand{\\Bold}[1]{\\mathbf{#1}}-\\frac{1}{4} \\, \\sqrt{2} + \\frac{4 \\, t^{2}}{{\\left(t^{2} + 1\\right)}^{3}} - \\frac{4 \\, t}{{\\left(t^{2} + 1\\right)}^{\\frac{3}{2}} {\\left(t + 1\\right)}^{2}} + \\frac{4 \\, t}{{\\left(t^{2} + 1\\right)}^{\\frac{3}{2}} {\\left(t - 1\\right)}^{2}} + \\frac{1}{{\\left(t + 1\\right)}^{4}} + \\frac{1}{{\\left(t - 1\\right)}^{4}} - \\frac{2}{{\\left(t + 1\\right)}^{2} {\\left(t - 1\\right)}^{2}} + \\frac{9}{16}</script></html>"
      ],
      "text/plain": [
       "-1/4*sqrt(2) + 4*t^2/(t^2 + 1)^3 - 4*t/((t^2 + 1)^(3/2)*(t + 1)^2) + 4*t/((t^2 + 1)^(3/2)*(t - 1)^2) + 1/(t + 1)^4 + 1/(t - 1)^4 - 2/((t + 1)^2*(t - 1)^2) + 9/16"
      ]
     },
     "metadata": {},
     "output_type": "display_data"
    }
   ],
   "source": [
    "p22 = B2[0][0]\n",
    "p22 = simplify_local(p22,2)\n",
    "show(p22)"
   ]
  },
  {
   "cell_type": "code",
   "execution_count": 14,
   "metadata": {},
   "outputs": [
    {
     "data": {
      "text/html": [
       "<html><script type=\"math/tex; mode=display\">\\newcommand{\\Bold}[1]{\\mathbf{#1}}\\frac{\\sqrt{2} {\\left(9 \\, \\sqrt{2} - 8\\right)}}{32 \\, t^{4}} + \\frac{4}{{\\left(t^{2} + 1\\right)}^{3}} - \\frac{4}{{\\left(t^{2} + 1\\right)}^{\\frac{3}{2}} {\\left(t + 1\\right)}^{2}} - \\frac{4}{{\\left(t^{2} + 1\\right)}^{\\frac{3}{2}} {\\left(t - 1\\right)}^{2}} + \\frac{1}{{\\left(t + 1\\right)}^{4}} + \\frac{1}{{\\left(t - 1\\right)}^{4}} + \\frac{2}{{\\left(t + 1\\right)}^{2} {\\left(t - 1\\right)}^{2}}</script></html>"
      ],
      "text/plain": [
       "1/32*sqrt(2)*(9*sqrt(2) - 8)/t^4 + 4/(t^2 + 1)^3 - 4/((t^2 + 1)^(3/2)*(t + 1)^2) - 4/((t^2 + 1)^(3/2)*(t - 1)^2) + 1/(t + 1)^4 + 1/(t - 1)^4 + 2/((t + 1)^2*(t - 1)^2)"
      ]
     },
     "metadata": {},
     "output_type": "display_data"
    }
   ],
   "source": [
    "p33 = B2[1][1]\n",
    "p33 = simplify_local(p33,2)\n",
    "show(p33)"
   ]
  },
  {
   "cell_type": "code",
   "execution_count": 15,
   "metadata": {},
   "outputs": [
    {
     "data": {
      "text/html": [
       "<html><script type=\"math/tex; mode=display\">\\newcommand{\\Bold}[1]{\\mathbf{#1}}\\frac{{\\left(\\sqrt{2} + 3\\right)} {\\left(\\sqrt{2} - 1\\right)}}{2 \\, {\\left(t^{2} + 1\\right)}^{\\frac{3}{2}}} + \\frac{{\\left(\\sqrt{2} + 3\\right)} {\\left(\\sqrt{2} - 1\\right)}}{2 \\, {\\left(t^{2} + 1\\right)}^{\\frac{3}{2}} t} - \\frac{2 \\, \\sqrt{2} - 1}{4 \\, {\\left(t + 1\\right)}^{2}} - \\frac{2 \\, \\sqrt{2} - 1}{4 \\, {\\left(t - 1\\right)}^{2}} + \\frac{\\sqrt{2} {\\left(\\sqrt{2} - 4\\right)}}{8 \\, {\\left(t + 1\\right)}^{3} t} - \\frac{\\sqrt{2} {\\left(\\sqrt{2} - 4\\right)}}{8 \\, {\\left(t - 1\\right)}^{3} t} + \\frac{\\sqrt{2} {\\left(\\sqrt{2} - 4\\right)}}{8 \\, {\\left(t + 1\\right)}^{3} t^{2}} + \\frac{\\sqrt{2} {\\left(\\sqrt{2} - 4\\right)}}{8 \\, {\\left(t - 1\\right)}^{3} t^{2}}</script></html>"
      ],
      "text/plain": [
       "1/2*(sqrt(2) + 3)*(sqrt(2) - 1)/(t^2 + 1)^(3/2) + 1/2*(sqrt(2) + 3)*(sqrt(2) - 1)/((t^2 + 1)^(3/2)*t) - 1/4*(2*sqrt(2) - 1)/(t + 1)^2 - 1/4*(2*sqrt(2) - 1)/(t - 1)^2 + 1/8*sqrt(2)*(sqrt(2) - 4)/((t + 1)^3*t) - 1/8*sqrt(2)*(sqrt(2) - 4)/((t - 1)^3*t) + 1/8*sqrt(2)*(sqrt(2) - 4)/((t + 1)^3*t^2) + 1/8*sqrt(2)*(sqrt(2) - 4)/((t - 1)^3*t^2)"
      ]
     },
     "metadata": {},
     "output_type": "display_data"
    }
   ],
   "source": [
    "p32 = B2[1][0]\n",
    "p32 = simplify_local(p32,2)\n",
    "show(p32)"
   ]
  },
  {
   "cell_type": "code",
   "execution_count": 16,
   "metadata": {},
   "outputs": [
    {
     "data": {
      "text/html": [
       "<html><script type=\"math/tex; mode=display\">\\newcommand{\\Bold}[1]{\\mathbf{#1}}\\frac{{\\left(\\sqrt{2} + 3\\right)} {\\left(\\sqrt{2} - 1\\right)}}{2 \\, {\\left(t^{2} + 1\\right)}^{\\frac{3}{2}}} + \\frac{{\\left(\\sqrt{2} + 3\\right)} {\\left(\\sqrt{2} - 1\\right)}}{2 \\, {\\left(t^{2} + 1\\right)}^{\\frac{3}{2}} t} - \\frac{2 \\, \\sqrt{2} - 1}{4 \\, {\\left(t + 1\\right)}^{2}} - \\frac{2 \\, \\sqrt{2} - 1}{4 \\, {\\left(t - 1\\right)}^{2}} + \\frac{\\sqrt{2} {\\left(\\sqrt{2} - 4\\right)}}{8 \\, {\\left(t + 1\\right)}^{3} t} - \\frac{\\sqrt{2} {\\left(\\sqrt{2} - 4\\right)}}{8 \\, {\\left(t - 1\\right)}^{3} t} + \\frac{\\sqrt{2} {\\left(\\sqrt{2} - 4\\right)}}{8 \\, {\\left(t + 1\\right)}^{3} t^{2}} + \\frac{\\sqrt{2} {\\left(\\sqrt{2} - 4\\right)}}{8 \\, {\\left(t - 1\\right)}^{3} t^{2}}</script></html>"
      ],
      "text/plain": [
       "1/2*(sqrt(2) + 3)*(sqrt(2) - 1)/(t^2 + 1)^(3/2) + 1/2*(sqrt(2) + 3)*(sqrt(2) - 1)/((t^2 + 1)^(3/2)*t) - 1/4*(2*sqrt(2) - 1)/(t + 1)^2 - 1/4*(2*sqrt(2) - 1)/(t - 1)^2 + 1/8*sqrt(2)*(sqrt(2) - 4)/((t + 1)^3*t) - 1/8*sqrt(2)*(sqrt(2) - 4)/((t - 1)^3*t) + 1/8*sqrt(2)*(sqrt(2) - 4)/((t + 1)^3*t^2) + 1/8*sqrt(2)*(sqrt(2) - 4)/((t - 1)^3*t^2)"
      ]
     },
     "metadata": {},
     "output_type": "display_data"
    }
   ],
   "source": [
    "p23 = B2[0][1]\n",
    "p23 = simplify_local(p23,2)\n",
    "show(p23)"
   ]
  },
  {
   "cell_type": "markdown",
   "metadata": {},
   "source": [
    "### Determinant"
   ]
  },
  {
   "cell_type": "code",
   "execution_count": 18,
   "metadata": {},
   "outputs": [],
   "source": [
    "import matplotlib.pyplot as plt\n",
    "import numpy as np"
   ]
  },
  {
   "cell_type": "code",
   "execution_count": 24,
   "metadata": {},
   "outputs": [
    {
     "data": {
      "image/png": "[encoded data removed]",
      "text/plain": [
       "<Figure size 432x288 with 1 Axes>"
      ]
     },
     "metadata": {
      "needs_background": "light"
     },
     "output_type": "display_data"
    }
   ],
   "source": [
    "det = p22*p33 - p23**2\n",
    "x = np.linspace(0.001,0.99, 1000)\n",
    "y = [det(t=x0) for x0 in x]\n",
    "plt.plot(x, y)\n",
    "plt.ylim([-1e1, 1e2])\n",
    "#plt.plot(x, 1000*[-0.5])\n",
    "plt.grid()\n",
    "plt.show()"
   ]
  },
  {
   "cell_type": "markdown",
   "metadata": {},
   "source": [
    "### Strategy\n",
    "\n",
    "- O Gráfico de $p22\\cdot p33$ comparado ao gráfico de $(p23)^2$ sugere que $p22\\cdot p33 > (p23)^2$"
   ]
  },
  {
   "cell_type": "code",
   "execution_count": 31,
   "metadata": {},
   "outputs": [],
   "source": [
    "p = p22*p33\n",
    "q = p23**2\n",
    "x = np.linspace(0.001,0.99, 1000)\n",
    "y = np.array([p(t=x0).n() for x0 in x])\n",
    "yy = np.array([q(t=x0).n() for x0 in x])\n"
   ]
  },
  {
   "cell_type": "code",
   "execution_count": 53,
   "metadata": {},
   "outputs": [
    {
     "data": {
      "image/png": "[encoded data removed]",
      "text/plain": [
       "<Figure size 432x288 with 1 Axes>"
      ]
     },
     "metadata": {
      "needs_background": "light"
     },
     "output_type": "display_data"
    }
   ],
   "source": [
    "fig, ax = plt.subplots()\n",
    "plt.plot(x, y, label='p22*p33')               # Gráfico de p222*p33\n",
    "plt.plot(x, yy, color='red', label='p23^2') # Gráfico de p23**2\n",
    "plt.ylim([-0.8e2, 0.5e3])\n",
    "plt.xlim([0.05,.8 ])\n",
    "plt.legend(loc='lower right')\n",
    "plt.grid()\n",
    "plt.show()"
   ]
  },
  {
   "cell_type": "code",
   "execution_count": null,
   "metadata": {},
   "outputs": [],
   "source": []
  }
 ],
 "metadata": {
  "kernelspec": {
   "display_name": "SageMath 9.0",
   "language": "sage",
   "name": "sagemath"
  },
  "language_info": {
   "codemirror_mode": {
    "name": "ipython",
    "version": 3
   },
   "file_extension": ".py",
   "mimetype": "text/x-python",
   "name": "python",
   "nbconvert_exporter": "python",
   "pygments_lexer": "ipython3",
   "version": "3.8.5"
  }
 },
 "nbformat": 4,
 "nbformat_minor": 4
}
