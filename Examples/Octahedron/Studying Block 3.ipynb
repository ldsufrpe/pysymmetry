{
 "cells": [
  {
   "cell_type": "markdown",
   "metadata": {},
   "source": [
    "### Studying Block 3\n",
    "\n",
    "\\begin{equation*}\n",
    " \\det\\left(\\begin{bmatrix}\n",
    "p_{44} &  p_{45} \\\\\n",
    "p_{54} &  p_{55}\n",
    "\\end{bmatrix}\\right)=p_{44}p_{55} - p_{45}^2\n",
    "\\end{equation*}\n"
   ]
  },
  {
   "cell_type": "code",
   "execution_count": 1,
   "metadata": {},
   "outputs": [],
   "source": [
    "def simplify_local(p, repeat=2):\n",
    "    c = var('c')    \n",
    "    i=0\n",
    "    while i<repeat:\n",
    "        p = p.collect(c).combine(deep=True)\n",
    "        lst0 = p.coefficients(c)    \n",
    "        lst = []    \n",
    "        for l0 in lst0:\n",
    "            expr0, k = l0\n",
    "            lst1 = expr0.operands()\n",
    "            if len(lst1)<2:\n",
    "                lst.append(expr0*c^k)\n",
    "            for expr1 in lst1:\n",
    "                try:\n",
    "                    expr1 = expr1.canonicalize_radical().factor()\n",
    "                except AttributeError:\n",
    "                    continue\n",
    "                #if len(p.variables())==1:\n",
    "                #    pass\n",
    "                expr1 = expr1*c^k\n",
    "                lst.append(expr1)\n",
    "        p = sum(lst).collect(c).combine(deep=True)\n",
    "        i+=1\n",
    "    return p"
   ]
  },
  {
   "cell_type": "code",
   "execution_count": 2,
   "metadata": {},
   "outputs": [],
   "source": [
    "B3 = load('B3')\n",
    "var('t')\n",
    "assume(t>0, t<1)"
   ]
  },
  {
   "cell_type": "markdown",
   "metadata": {},
   "source": [
    "### Block Entries "
   ]
  },
  {
   "cell_type": "code",
   "execution_count": 3,
   "metadata": {},
   "outputs": [
    {
     "data": {
      "text/html": [
       "<html><script type=\"math/tex; mode=display\">\\newcommand{\\Bold}[1]{\\mathbf{#1}}24 \\, c^{2} - c {\\left(4 \\, \\sqrt{2} + \\frac{16}{{\\left(t^{2} + 1\\right)}^{\\frac{3}{2}}} + \\frac{4}{{\\left(t + 1\\right)}^{2}} + \\frac{4}{{\\left(t - 1\\right)}^{2}} + 1\\right)} + \\frac{8}{{\\left(t^{2} + 1\\right)}^{3}} + \\frac{1}{{\\left(t + 1\\right)}^{4}} + \\frac{1}{{\\left(t - 1\\right)}^{4}} + \\frac{2}{{\\left(t + 1\\right)}^{2} {\\left(t - 1\\right)}^{2}} + \\frac{17}{16}</script></html>"
      ],
      "text/plain": [
       "24*c^2 - c*(4*sqrt(2) + 16/(t^2 + 1)^(3/2) + 4/(t + 1)^2 + 4/(t - 1)^2 + 1) + 8/(t^2 + 1)^3 + 1/(t + 1)^4 + 1/(t - 1)^4 + 2/((t + 1)^2*(t - 1)^2) + 17/16"
      ]
     },
     "metadata": {},
     "output_type": "display_data"
    }
   ],
   "source": [
    "p44 = B3[0][0]                 # Original\n",
    "p44 = simplify_local(p44,2)    # Simplificado\n",
    "show(p44)"
   ]
  },
  {
   "cell_type": "code",
   "execution_count": 4,
   "metadata": {},
   "outputs": [
    {
     "data": {
      "text/html": [
       "<html><script type=\"math/tex; mode=display\">\\newcommand{\\Bold}[1]{\\mathbf{#1}}{\\left(t^{2} + 24\\right)} c^{2} - c {\\left(\\frac{16 \\, t^{2}}{{\\left(t^{2} + 1\\right)}^{\\frac{3}{2}}} + \\frac{4 \\, \\sqrt{2} + 1}{t} + \\frac{4 \\, t}{{\\left(t + 1\\right)}^{2}} - \\frac{4 \\, t}{{\\left(t - 1\\right)}^{2}}\\right)} + \\frac{8 \\, t^{2}}{{\\left(t^{2} + 1\\right)}^{3}} + \\frac{1}{{\\left(t + 1\\right)}^{4}} + \\frac{1}{{\\left(t - 1\\right)}^{4}} - \\frac{2}{{\\left(t + 1\\right)}^{2} {\\left(t - 1\\right)}^{2}} + \\frac{17}{16 \\, t^{4}}</script></html>"
      ],
      "text/plain": [
       "(t^2 + 24)*c^2 - c*(16*t^2/(t^2 + 1)^(3/2) + (4*sqrt(2) + 1)/t + 4*t/(t + 1)^2 - 4*t/(t - 1)^2) + 8*t^2/(t^2 + 1)^3 + 1/(t + 1)^4 + 1/(t - 1)^4 - 2/((t + 1)^2*(t - 1)^2) + 17/16/t^4"
      ]
     },
     "metadata": {},
     "output_type": "display_data"
    }
   ],
   "source": [
    "p55 = B3[1][1]              # Original\n",
    "p55 = simplify_local(p55,2) # Simplificado\n",
    "show(p55)"
   ]
  },
  {
   "cell_type": "code",
   "execution_count": 5,
   "metadata": {},
   "outputs": [
    {
     "data": {
      "text/html": [
       "<html><script type=\"math/tex; mode=display\">\\newcommand{\\Bold}[1]{\\mathbf{#1}}c^{2} {\\left(t + 24\\right)} - \\frac{1}{2} \\, {\\left(4 \\, \\sqrt{2} t + t + \\frac{32 \\, t}{{\\left(t^{2} + 1\\right)}^{\\frac{3}{2}}} + \\frac{4}{t + 1} + \\frac{4}{t - 1} + \\frac{4 \\, \\sqrt{2} + 1}{t^{2}}\\right)} c + \\frac{2 \\, \\sqrt{2} t}{{\\left(t^{2} + 1\\right)}^{\\frac{3}{2}}} + \\frac{1}{4 \\, {\\left(t + 1\\right)}^{2}} - \\frac{1}{4 \\, {\\left(t - 1\\right)}^{2}} + \\frac{2 \\, \\sqrt{2}}{{\\left(t^{2} + 1\\right)}^{\\frac{3}{2}} t^{2}} + \\frac{1}{4 \\, {\\left(t + 1\\right)}^{3} t} + \\frac{1}{4 \\, {\\left(t - 1\\right)}^{3} t} + \\frac{1}{4 \\, {\\left(t + 1\\right)}^{3} t^{2}} - \\frac{1}{4 \\, {\\left(t - 1\\right)}^{3} t^{2}}</script></html>"
      ],
      "text/plain": [
       "c^2*(t + 24) - 1/2*(4*sqrt(2)*t + t + 32*t/(t^2 + 1)^(3/2) + 4/(t + 1) + 4/(t - 1) + (4*sqrt(2) + 1)/t^2)*c + 2*sqrt(2)*t/(t^2 + 1)^(3/2) + 1/4/(t + 1)^2 - 1/4/(t - 1)^2 + 2*sqrt(2)/((t^2 + 1)^(3/2)*t^2) + 1/4/((t + 1)^3*t) + 1/4/((t - 1)^3*t) + 1/4/((t + 1)^3*t^2) - 1/4/((t - 1)^3*t^2)"
      ]
     },
     "metadata": {},
     "output_type": "display_data"
    }
   ],
   "source": [
    "p54 = B3[1][0]               # Original\n",
    "p54 = simplify_local(p54,2)  # Simplificado\n",
    "show(p54)"
   ]
  },
  {
   "cell_type": "code",
   "execution_count": 6,
   "metadata": {},
   "outputs": [
    {
     "data": {
      "text/html": [
       "<html><script type=\"math/tex; mode=display\">\\newcommand{\\Bold}[1]{\\mathbf{#1}}c^{2} {\\left(t + 24\\right)} - \\frac{1}{2} \\, {\\left(4 \\, \\sqrt{2} t + t + \\frac{32 \\, t}{{\\left(t^{2} + 1\\right)}^{\\frac{3}{2}}} + \\frac{4}{t + 1} + \\frac{4}{t - 1} + \\frac{4 \\, \\sqrt{2} + 1}{t^{2}}\\right)} c + \\frac{2 \\, \\sqrt{2} t}{{\\left(t^{2} + 1\\right)}^{\\frac{3}{2}}} + \\frac{1}{4 \\, {\\left(t + 1\\right)}^{2}} - \\frac{1}{4 \\, {\\left(t - 1\\right)}^{2}} + \\frac{2 \\, \\sqrt{2}}{{\\left(t^{2} + 1\\right)}^{\\frac{3}{2}} t^{2}} + \\frac{1}{4 \\, {\\left(t + 1\\right)}^{3} t} + \\frac{1}{4 \\, {\\left(t - 1\\right)}^{3} t} + \\frac{1}{4 \\, {\\left(t + 1\\right)}^{3} t^{2}} - \\frac{1}{4 \\, {\\left(t - 1\\right)}^{3} t^{2}}</script></html>"
      ],
      "text/plain": [
       "c^2*(t + 24) - 1/2*(4*sqrt(2)*t + t + 32*t/(t^2 + 1)^(3/2) + 4/(t + 1) + 4/(t - 1) + (4*sqrt(2) + 1)/t^2)*c + 2*sqrt(2)*t/(t^2 + 1)^(3/2) + 1/4/(t + 1)^2 - 1/4/(t - 1)^2 + 2*sqrt(2)/((t^2 + 1)^(3/2)*t^2) + 1/4/((t + 1)^3*t) + 1/4/((t - 1)^3*t) + 1/4/((t + 1)^3*t^2) - 1/4/((t - 1)^3*t^2)"
      ]
     },
     "metadata": {},
     "output_type": "display_data"
    }
   ],
   "source": [
    "p45 = B3[0][1]                # Original\n",
    "p45 = simplify_local(p45,2)   # Simplificado\n",
    "show(p45)"
   ]
  },
  {
   "cell_type": "markdown",
   "metadata": {},
   "source": [
    "### Determinant"
   ]
  },
  {
   "cell_type": "code",
   "execution_count": 8,
   "metadata": {},
   "outputs": [],
   "source": [
    "import matplotlib.pyplot as plt\n",
    "import numpy as np"
   ]
  },
  {
   "cell_type": "code",
   "execution_count": 95,
   "metadata": {},
   "outputs": [
    {
     "data": {
      "image/png": "[encoded data removed]",
      "text/plain": [
       "<Figure size 432x288 with 1 Axes>"
      ]
     },
     "metadata": {
      "needs_background": "light"
     },
     "output_type": "display_data"
    }
   ],
   "source": [
    "det = p44*p55 - p45**2\n",
    "det = det(c=60)                       # Escolhendo c = 60\n",
    "x = np.linspace(0.01,0.99, 1000)\n",
    "y = np.array([det(t=x0).n() for x0 in x])\n",
    "fig, ax = plt.subplots()\n",
    "plt.plot(x, y)\n",
    "plt.ylim([-1e9, 1e9])\n",
    "plt.grid()\n",
    "plt.show()"
   ]
  },
  {
   "cell_type": "markdown",
   "metadata": {},
   "source": [
    "### Strategy\n",
    "\n",
    "- Para $c=60$ têm-se:  $\\det(2/10)> 0$ e $\\det(3/10)<0$. Logo, é possível usar o teorema do valor intermediário."
   ]
  },
  {
   "cell_type": "code",
   "execution_count": 96,
   "metadata": {},
   "outputs": [
    {
     "data": {
      "text/plain": [
       "True"
      ]
     },
     "execution_count": 96,
     "metadata": {},
     "output_type": "execute_result"
    }
   ],
   "source": [
    "bool(det(t=2/10)>0)"
   ]
  },
  {
   "cell_type": "code",
   "execution_count": 97,
   "metadata": {},
   "outputs": [
    {
     "data": {
      "text/plain": [
       "True"
      ]
     },
     "execution_count": 97,
     "metadata": {},
     "output_type": "execute_result"
    }
   ],
   "source": [
    "bool(det(t=3/10)<0)"
   ]
  }
 ],
 "metadata": {
  "kernelspec": {
   "display_name": "SageMath 9.0",
   "language": "sage",
   "name": "sagemath"
  },
  "language_info": {
   "codemirror_mode": {
    "name": "ipython",
    "version": 3
   },
   "file_extension": ".py",
   "mimetype": "text/x-python",
   "name": "python",
   "nbconvert_exporter": "python",
   "pygments_lexer": "ipython3",
   "version": "3.8.5"
  }
 },
 "nbformat": 4,
 "nbformat_minor": 4
}
