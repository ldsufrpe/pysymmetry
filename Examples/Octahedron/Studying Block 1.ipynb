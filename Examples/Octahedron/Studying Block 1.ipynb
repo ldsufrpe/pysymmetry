{
 "cells": [
  {
   "cell_type": "markdown",
   "metadata": {},
   "source": [
    "### Studying Block 1\n",
    "\n",
    "\\begin{equation*}\n",
    " \\det\\left(\\begin{bmatrix}\n",
    "p_{00} &  p_{01} \\\\\n",
    "p_{10} &  p_{11}\n",
    "\\end{bmatrix}\\right)=p_{00}p_{11} - p_{01}^2\n",
    "\\end{equation*}\n"
   ]
  },
  {
   "cell_type": "code",
   "execution_count": 2,
   "metadata": {},
   "outputs": [],
   "source": [
    "def simplify_local(p, repeat=2):\n",
    "    c = var('c')    \n",
    "    i=0\n",
    "    while i<repeat:\n",
    "        p = p.collect(c).combine(deep=True)\n",
    "        lst0 = p.coefficients(c)    \n",
    "        lst = []    \n",
    "        for l0 in lst0:\n",
    "            expr0, k = l0\n",
    "            lst1 = expr0.operands()\n",
    "            if len(lst1)<2:\n",
    "                lst.append(expr0*c^k)\n",
    "            for expr1 in lst1:\n",
    "                try:\n",
    "                    expr1 = expr1.canonicalize_radical().factor()\n",
    "                except AttributeError:\n",
    "                    continue\n",
    "                #if len(p.variables())==1:\n",
    "                #    pass\n",
    "                expr1 = expr1*c^k\n",
    "                lst.append(expr1)\n",
    "        p = sum(lst).collect(c).combine(deep=True)\n",
    "        i+=1\n",
    "    return p"
   ]
  },
  {
   "cell_type": "code",
   "execution_count": 3,
   "metadata": {},
   "outputs": [],
   "source": [
    "B1 = load('B1')"
   ]
  },
  {
   "cell_type": "markdown",
   "metadata": {},
   "source": [
    "### Block Entries "
   ]
  },
  {
   "cell_type": "code",
   "execution_count": 6,
   "metadata": {},
   "outputs": [
    {
     "data": {
      "text/html": [
       "<html><script type=\"math/tex; mode=display\">\\newcommand{\\Bold}[1]{\\mathbf{#1}}36 \\, {\\left(t^{2} + 1\\right)} c^{2} - 3 \\, c {\\left(4 \\, \\sqrt{2} + \\frac{16 \\, t^{2}}{{\\left(t^{2} + 1\\right)}^{\\frac{3}{2}}} + \\frac{4 \\, t}{{\\left(t + 1\\right)}^{2}} + \\frac{4 \\, t}{{\\left(t - 1\\right)} {\\left| t - 1 \\right|}} + 1\\right)} + \\frac{1}{2} \\, \\sqrt{2} + \\frac{16 \\, t^{2}}{{\\left(t^{2} + 1\\right)}^{3}} + \\frac{8 \\, t}{{\\left(t^{2} + 1\\right)}^{\\frac{3}{2}} {\\left(t + 1\\right)}^{2}} + \\frac{8 \\, t}{{\\left(t^{2} + 1\\right)}^{\\frac{3}{2}} {\\left(t - 1\\right)} {\\left| t - 1 \\right|}} + \\frac{1}{{\\left(t + 1\\right)}^{4}} + \\frac{1}{{\\left(t - 1\\right)}^{4}} + \\frac{2}{{\\left(t + 1\\right)}^{2} {\\left(t - 1\\right)} {\\left| t - 1 \\right|}} + \\frac{33}{16}</script></html>"
      ],
      "text/plain": [
       "36*(t^2 + 1)*c^2 - 3*c*(4*sqrt(2) + 16*t^2/(t^2 + 1)^(3/2) + 4*t/(t + 1)^2 + 4*t/((t - 1)*abs(t - 1)) + 1) + 1/2*sqrt(2) + 16*t^2/(t^2 + 1)^3 + 8*t/((t^2 + 1)^(3/2)*(t + 1)^2) + 8*t/((t^2 + 1)^(3/2)*(t - 1)*abs(t - 1)) + 1/(t + 1)^4 + 1/(t - 1)^4 + 2/((t + 1)^2*(t - 1)*abs(t - 1)) + 33/16"
      ]
     },
     "metadata": {},
     "output_type": "display_data"
    }
   ],
   "source": [
    "p00 = B1[0][0]\n",
    "p00 = simplify_local(p00,2)\n",
    "show(p00)"
   ]
  },
  {
   "cell_type": "code",
   "execution_count": 8,
   "metadata": {},
   "outputs": [
    {
     "data": {
      "text/html": [
       "<html><script type=\"math/tex; mode=display\">\\newcommand{\\Bold}[1]{\\mathbf{#1}}36 \\, {\\left(t^{2} + 1\\right)} c^{2} - 3 \\, c {\\left(\\frac{4 \\, \\sqrt{2} + 1}{t} + \\frac{16}{{\\left(t^{2} + 1\\right)}^{\\frac{3}{2}}} + \\frac{4}{{\\left(t + 1\\right)}^{2}} - \\frac{4}{{\\left(t - 1\\right)} {\\left| t - 1 \\right|}}\\right)} + \\frac{\\sqrt{2} {\\left(33 \\, \\sqrt{2} + 16\\right)}}{32 \\, t^{4}} + \\frac{16}{{\\left(t^{2} + 1\\right)}^{3}} + \\frac{8}{{\\left(t^{2} + 1\\right)}^{\\frac{3}{2}} {\\left(t + 1\\right)}^{2}} - \\frac{8}{{\\left(t^{2} + 1\\right)}^{\\frac{3}{2}} {\\left(t - 1\\right)} {\\left| t - 1 \\right|}} + \\frac{1}{{\\left(t + 1\\right)}^{4}} + \\frac{1}{{\\left(t - 1\\right)}^{4}} - \\frac{2}{{\\left(t + 1\\right)}^{2} {\\left(t - 1\\right)} {\\left| t - 1 \\right|}}</script></html>"
      ],
      "text/plain": [
       "36*(t^2 + 1)*c^2 - 3*c*((4*sqrt(2) + 1)/t + 16/(t^2 + 1)^(3/2) + 4/(t + 1)^2 - 4/((t - 1)*abs(t - 1))) + 1/32*sqrt(2)*(33*sqrt(2) + 16)/t^4 + 16/(t^2 + 1)^3 + 8/((t^2 + 1)^(3/2)*(t + 1)^2) - 8/((t^2 + 1)^(3/2)*(t - 1)*abs(t - 1)) + 1/(t + 1)^4 + 1/(t - 1)^4 - 2/((t + 1)^2*(t - 1)*abs(t - 1))"
      ]
     },
     "metadata": {},
     "output_type": "display_data"
    }
   ],
   "source": [
    "p11 = B1[1][1]\n",
    "p11 = simplify_local(p11,2)\n",
    "show(p11)"
   ]
  },
  {
   "cell_type": "code",
   "execution_count": 7,
   "metadata": {},
   "outputs": [
    {
     "data": {
      "text/html": [
       "<html><script type=\"math/tex; mode=display\">\\newcommand{\\Bold}[1]{\\mathbf{#1}}36 \\, {\\left(t^{2} + 1\\right)} c^{2} - \\frac{3}{2} \\, c {\\left(4 \\, \\sqrt{2} + \\frac{4 \\, \\sqrt{2} + 1}{t} + \\frac{16}{\\sqrt{t^{2} + 1}} + \\frac{4}{t + 1} + \\frac{4}{{\\left| t - 1 \\right|}} + 1\\right)} - \\frac{{\\left(3 \\, \\sqrt{2} - 7\\right)} {\\left(\\sqrt{2} + 1\\right)}}{{\\left(t^{2} + 1\\right)}^{\\frac{3}{2}}} + \\frac{{\\left(3 \\, \\sqrt{2} - 7\\right)} {\\left(\\sqrt{2} + 1\\right)}}{4 \\, {\\left(t - 1\\right)} {\\left| t - 1 \\right|}} - \\frac{{\\left(3 \\, \\sqrt{2} - 7\\right)} {\\left(\\sqrt{2} + 1\\right)}}{{\\left(t^{2} + 1\\right)}^{\\frac{3}{2}} t} + \\frac{4 \\, \\sqrt{2} + 1}{4 \\, {\\left(t + 1\\right)}^{2}} - \\frac{{\\left(3 \\, \\sqrt{2} - 7\\right)} {\\left(\\sqrt{2} + 1\\right)}}{4 \\, {\\left(t - 1\\right)}^{2} t {\\left| t - 1 \\right|}} + \\frac{4 \\, \\sqrt{2} + 1}{4 \\, {\\left(t + 1\\right)}^{3} t} + \\frac{{\\left(3 \\, \\sqrt{2} - 7\\right)} {\\left(\\sqrt{2} + 1\\right)}}{4 \\, {\\left(t - 1\\right)}^{2} t^{2} {\\left| t - 1 \\right|}} + \\frac{4 \\, \\sqrt{2} + 1}{4 \\, {\\left(t + 1\\right)}^{3} t^{2}}</script></html>"
      ],
      "text/plain": [
       "36*(t^2 + 1)*c^2 - 3/2*c*(4*sqrt(2) + (4*sqrt(2) + 1)/t + 16/sqrt(t^2 + 1) + 4/(t + 1) + 4/abs(t - 1) + 1) - (3*sqrt(2) - 7)*(sqrt(2) + 1)/(t^2 + 1)^(3/2) + 1/4*(3*sqrt(2) - 7)*(sqrt(2) + 1)/((t - 1)*abs(t - 1)) - (3*sqrt(2) - 7)*(sqrt(2) + 1)/((t^2 + 1)^(3/2)*t) + 1/4*(4*sqrt(2) + 1)/(t + 1)^2 - 1/4*(3*sqrt(2) - 7)*(sqrt(2) + 1)/((t - 1)^2*t*abs(t - 1)) + 1/4*(4*sqrt(2) + 1)/((t + 1)^3*t) + 1/4*(3*sqrt(2) - 7)*(sqrt(2) + 1)/((t - 1)^2*t^2*abs(t - 1)) + 1/4*(4*sqrt(2) + 1)/((t + 1)^3*t^2)"
      ]
     },
     "metadata": {},
     "output_type": "display_data"
    }
   ],
   "source": [
    "p10 = B1[1][0]\n",
    "p10 = simplify_local(p10,2)\n",
    "show(p10)"
   ]
  },
  {
   "cell_type": "code",
   "execution_count": 9,
   "metadata": {},
   "outputs": [
    {
     "data": {
      "text/html": [
       "<html><script type=\"math/tex; mode=display\">\\newcommand{\\Bold}[1]{\\mathbf{#1}}36 \\, {\\left(t^{2} + 1\\right)} c^{2} - \\frac{3}{2} \\, c {\\left(4 \\, \\sqrt{2} + \\frac{4 \\, \\sqrt{2} + 1}{t} + \\frac{16}{\\sqrt{t^{2} + 1}} + \\frac{4}{t + 1} + \\frac{4}{{\\left| t - 1 \\right|}} + 1\\right)} - \\frac{{\\left(3 \\, \\sqrt{2} - 7\\right)} {\\left(\\sqrt{2} + 1\\right)}}{{\\left(t^{2} + 1\\right)}^{\\frac{3}{2}}} + \\frac{{\\left(3 \\, \\sqrt{2} - 7\\right)} {\\left(\\sqrt{2} + 1\\right)}}{4 \\, {\\left(t - 1\\right)} {\\left| t - 1 \\right|}} - \\frac{{\\left(3 \\, \\sqrt{2} - 7\\right)} {\\left(\\sqrt{2} + 1\\right)}}{{\\left(t^{2} + 1\\right)}^{\\frac{3}{2}} t} + \\frac{4 \\, \\sqrt{2} + 1}{4 \\, {\\left(t + 1\\right)}^{2}} - \\frac{{\\left(3 \\, \\sqrt{2} - 7\\right)} {\\left(\\sqrt{2} + 1\\right)}}{4 \\, {\\left(t - 1\\right)}^{2} t {\\left| t - 1 \\right|}} + \\frac{4 \\, \\sqrt{2} + 1}{4 \\, {\\left(t + 1\\right)}^{3} t} + \\frac{{\\left(3 \\, \\sqrt{2} - 7\\right)} {\\left(\\sqrt{2} + 1\\right)}}{4 \\, {\\left(t - 1\\right)}^{2} t^{2} {\\left| t - 1 \\right|}} + \\frac{4 \\, \\sqrt{2} + 1}{4 \\, {\\left(t + 1\\right)}^{3} t^{2}}</script></html>"
      ],
      "text/plain": [
       "36*(t^2 + 1)*c^2 - 3/2*c*(4*sqrt(2) + (4*sqrt(2) + 1)/t + 16/sqrt(t^2 + 1) + 4/(t + 1) + 4/abs(t - 1) + 1) - (3*sqrt(2) - 7)*(sqrt(2) + 1)/(t^2 + 1)^(3/2) + 1/4*(3*sqrt(2) - 7)*(sqrt(2) + 1)/((t - 1)*abs(t - 1)) - (3*sqrt(2) - 7)*(sqrt(2) + 1)/((t^2 + 1)^(3/2)*t) + 1/4*(4*sqrt(2) + 1)/(t + 1)^2 - 1/4*(3*sqrt(2) - 7)*(sqrt(2) + 1)/((t - 1)^2*t*abs(t - 1)) + 1/4*(4*sqrt(2) + 1)/((t + 1)^3*t) + 1/4*(3*sqrt(2) - 7)*(sqrt(2) + 1)/((t - 1)^2*t^2*abs(t - 1)) + 1/4*(4*sqrt(2) + 1)/((t + 1)^3*t^2)"
      ]
     },
     "metadata": {},
     "output_type": "display_data"
    }
   ],
   "source": [
    "p01 = B1[0][1]\n",
    "p01 = simplify_local(p01,2)\n",
    "show(p01)"
   ]
  },
  {
   "cell_type": "markdown",
   "metadata": {},
   "source": [
    "### Determinant"
   ]
  },
  {
   "cell_type": "code",
   "execution_count": 10,
   "metadata": {},
   "outputs": [
    {
     "data": {
      "text/plain": [
       "2"
      ]
     },
     "execution_count": 10,
     "metadata": {},
     "output_type": "execute_result"
    }
   ],
   "source": [
    "det = p00*p11-p10**2           # Determinante bloco 1\n",
    "det = det.factor()             # simplificação\n",
    "det.degree(c)                  # grau"
   ]
  },
  {
   "cell_type": "code",
   "execution_count": 13,
   "metadata": {},
   "outputs": [],
   "source": [
    "cff = det.coefficients(c);     # Coleta os coeficientes da variável c. \n",
    "d, b, a = [l[0] for l in cff]  # coeficientes de a(t)c^2 + b(t)c + d(t)\n",
    "D = b**2 - 4*a*d               # Discriminante"
   ]
  },
  {
   "cell_type": "code",
   "execution_count": 12,
   "metadata": {},
   "outputs": [
    {
     "data": {
      "text/plain": [
       "0"
      ]
     },
     "execution_count": 12,
     "metadata": {},
     "output_type": "execute_result"
    }
   ],
   "source": [
    "D.factor().expand()            # Zero para qualquer t em (0,1)."
   ]
  },
  {
   "cell_type": "code",
   "execution_count": null,
   "metadata": {},
   "outputs": [],
   "source": []
  }
 ],
 "metadata": {
  "kernelspec": {
   "display_name": "SageMath 9.0",
   "language": "sage",
   "name": "sagemath"
  },
  "language_info": {
   "codemirror_mode": {
    "name": "ipython",
    "version": 3
   },
   "file_extension": ".py",
   "mimetype": "text/x-python",
   "name": "python",
   "nbconvert_exporter": "python",
   "pygments_lexer": "ipython3",
   "version": "3.8.5"
  }
 },
 "nbformat": 4,
 "nbformat_minor": 4
}
