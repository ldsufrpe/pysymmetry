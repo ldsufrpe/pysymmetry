{
 "cells": [
  {
   "cell_type": "code",
   "execution_count": 1,
   "metadata": {
    "vscode": {
     "languageId": "sage"
    }
   },
   "outputs": [],
   "source": [
    "\n",
    "import sys\n",
    "import os\n",
    "# Adds the project root directory to the Python path.\n",
    "# The notebook is in 'Examples/pde', so we need to go up two levels.\n",
    "project_root = os.path.abspath('../..')\n",
    "if project_root not in sys.path:\n",
    "    sys.path.insert(0, project_root)\n",
    "\n"
   ]
  },
  {
   "cell_type": "code",
   "execution_count": 2,
   "metadata": {
    "vscode": {
     "languageId": "sage"
    }
   },
   "outputs": [
    {
     "name": "stdout",
     "output_type": "stream",
     "text": [
      "Requirement already satisfied: pandas in /home/ldsufrpe/block-analysis/mamba/envs/sage/lib/python3.11/site-packages (2.3.2)\n",
      "Requirement already satisfied: numpy>=1.23.2 in /home/ldsufrpe/block-analysis/mamba/envs/sage/lib/python3.11/site-packages (from pandas) (1.26.4)\n",
      "Requirement already satisfied: python-dateutil>=2.8.2 in /home/ldsufrpe/block-analysis/mamba/envs/sage/lib/python3.11/site-packages (from pandas) (2.9.0)\n",
      "Requirement already satisfied: pytz>=2020.1 in /home/ldsufrpe/block-analysis/mamba/envs/sage/lib/python3.11/site-packages (from pandas) (2024.2)\n",
      "Requirement already satisfied: tzdata>=2022.7 in /home/ldsufrpe/block-analysis/mamba/envs/sage/lib/python3.11/site-packages (from pandas) (2025.2)\n",
      "Requirement already satisfied: six>=1.5 in /home/ldsufrpe/block-analysis/mamba/envs/sage/lib/python3.11/site-packages (from python-dateutil>=2.8.2->pandas) (1.16.0)\n"
     ]
    }
   ],
   "source": [
    "!pip install pandas"
   ]
  },
  {
   "cell_type": "code",
   "execution_count": 3,
   "metadata": {
    "vscode": {
     "languageId": "sage"
    }
   },
   "outputs": [],
   "source": [
    "from pysymmetry import *\n",
    "import matplotlib.pyplot as plt\n",
    "import numpy as np\n",
    "from multiprocessing import Pool\n",
    "import time\n",
    "\n",
    "# --- Plotting Configuration for Publication Quality ---\n",
    "font = {'family': 'serif', 'serif': ['Computer Modern Roman'], 'size': 16}\n",
    "plt.rc('font', **font)\n",
    "plt.rc('text', usetex=True) # Use LaTeX for rendering text\n",
    "plt.rc('lines', linewidth=2.5, markersize=8)\n",
    "plt.rc('axes', grid=True)\n",
    "plt.rc('grid', linestyle='--', alpha=0.6)\n",
    "\n",
    "\n",
    "# --- Helper Functions ---\n",
    "def generators2d(n):\n",
    "    # (Implementation remains the same)\n",
    "    string_reflexao_sigma = ''\n",
    "    for j in range(1,(n/2+1).floor()):\n",
    "        for k in range(0,n):\n",
    "            string_reflexao_sigma = string_reflexao_sigma + str((k*n+j,k*n+n-j+1))\n",
    "    \n",
    "    string_reflexao_miDp = ''\n",
    "    for i in range(1, n):\n",
    "        for j in range(i+1, n+1):            \n",
    "            string_reflexao_miDp = string_reflexao_miDp + str(((i-1)*n+j,(j-1)*n+i))\n",
    "            \n",
    "    return [string_reflexao_sigma, string_reflexao_miDp]\n",
    "\n",
    "def calculate_block_eigenvalues(block):\n",
    "    \"\"\"Helper function for parallel eigenvalue calculation.\"\"\"\n",
    "    return np.linalg.eigvalsh(block.toarray())\n",
    "\n",
    "# --- Experiment Parameters ---\n",
    "# Use a wider range of sizes to demonstrate scalability.\n",
    "# Start small and increase significantly.\n",
    "grid_sizes = np.array([ 60, 70, 80, 90, 100, 120, 130, 140])\n",
    "matrix_dimensions = grid_sizes**2\n",
    "\n",
    "# --- Data Storage ---\n",
    "timings = {\n",
    "    \"preprocessing\": [],\n",
    "    \"block_eigvals\": [],\n",
    "    \"total_symmetry\": [],\n",
    "    \"full_matrix\": []\n",
    "}\n"
   ]
  },
  {
   "cell_type": "code",
   "execution_count": null,
   "metadata": {
    "vscode": {
     "languageId": "sage"
    }
   },
   "outputs": [
    {
     "name": "stdout",
     "output_type": "stream",
     "text": [
      "Processing grid 60x60 (Matrix dimension: 3600x3600)...\n",
      "  Preprocessing time: 9.4882s\n",
      "  Block eigenvalues time: 0.1303s\n",
      "  Total symmetry method time: 9.6185s\n",
      "  Full matrix time: 9.8949s\n",
      "\n",
      "Processing grid 70x70 (Matrix dimension: 4900x4900)...\n",
      "  Preprocessing time: 12.5612s\n",
      "  Block eigenvalues time: 0.1512s\n",
      "  Total symmetry method time: 12.7124s\n",
      "  Full matrix time: 11.1826s\n",
      "\n",
      "Processing grid 80x80 (Matrix dimension: 6400x6400)...\n",
      "  Preprocessing time: 19.6412s\n",
      "  Block eigenvalues time: 0.4783s\n",
      "  Total symmetry method time: 20.1195s\n",
      "  Full matrix time: 23.7385s\n",
      "\n",
      "Processing grid 90x90 (Matrix dimension: 8100x8100)...\n",
      "  Preprocessing time: 39.0559s\n",
      "  Block eigenvalues time: 1.0357s\n",
      "  Total symmetry method time: 40.0916s\n",
      "  Full matrix time: 50.0811s\n",
      "\n",
      "Processing grid 100x100 (Matrix dimension: 10000x10000)...\n",
      "  Preprocessing time: 65.8007s\n",
      "  Block eigenvalues time: 2.0733s\n",
      "  Total symmetry method time: 67.8740s\n",
      "  Full matrix time: 92.7089s\n",
      "\n",
      "Processing grid 120x120 (Matrix dimension: 14400x14400)...\n",
      "  Preprocessing time: 164.5552s\n",
      "  Block eigenvalues time: 6.2954s\n",
      "  Total symmetry method time: 170.8505s\n",
      "  Full matrix time: 225.7489s\n",
      "\n",
      "Processing grid 130x130 (Matrix dimension: 16900x16900)...\n",
      "  Preprocessing time: 206.7648s\n",
      "  Block eigenvalues time: 9.6608s\n",
      "  Total symmetry method time: 216.4256s\n"
     ]
    }
   ],
   "source": [
    "# --- Main Timing Loop ---\n",
    "# Use a context manager for the parallel pool.\n",
    "with Pool() as p:\n",
    "    for n in grid_sizes:\n",
    "        N = n**2\n",
    "        print(f\"Processing grid {n}x{n} (Matrix dimension: {N}x{N})...\")\n",
    "        \n",
    "        # --- 1. Symmetry Method: Preprocessing ---\n",
    "        start_time = time.perf_counter()\n",
    "        M = laplacian2d(n)\n",
    "        G = nGroup(generators2d(ZZ(n)))\n",
    "        gens = G.gens()\n",
    "        img = [g.matrix() for g in gens]\n",
    "        r = G.nrepresentation(gens, img)\n",
    "        base = G.nbase_change_reduction(r)\n",
    "        blocks = base.get_blocks(M)\n",
    "        t_preprocessing = time.perf_counter() - start_time\n",
    "        timings[\"preprocessing\"].append(t_preprocessing)\n",
    "        print(f\"  Preprocessing time: {t_preprocessing:.4f}s\")\n",
    "\n",
    "        # --- 2. Symmetry Method: Block Eigenvalue Calculation (Parallel) ---\n",
    "        start_time = time.perf_counter()\n",
    "        # Use pool.map for a cleaner parallel execution\n",
    "        block_eigenvalues_list = p.map(calculate_block_eigenvalues, blocks)\n",
    "        t_block_eigvals = time.perf_counter() - start_time\n",
    "        timings[\"block_eigvals\"].append(t_block_eigvals)\n",
    "        print(f\"  Block eigenvalues time: {t_block_eigvals:.4f}s\")\n",
    "        \n",
    "        # Total time for the symmetry method\n",
    "        total_sym_time = t_preprocessing + t_block_eigvals\n",
    "        timings[\"total_symmetry\"].append(total_sym_time)\n",
    "        print(f\"  Total symmetry method time: {total_sym_time:.4f}s\")\n",
    "\n",
    "        # --- 3. Full Matrix Method ---\n",
    "        start_time = time.perf_counter()\n",
    "        # We already have M, just need to convert and calculate\n",
    "        full_eigenvalues = np.linalg.eigvalsh(M.toarray())\n",
    "        t_full = time.perf_counter() - start_time\n",
    "        timings[\"full_matrix\"].append(t_full)\n",
    "        print(f\"  Full matrix time: {t_full:.4f}s\\n\")\n",
    "\n",
    "print(\"Performance analysis complete.\")"
   ]
  },
  {
   "cell_type": "code",
   "execution_count": null,
   "metadata": {
    "vscode": {
     "languageId": "sage"
    }
   },
   "outputs": [],
   "source": [
    "import pandas as pd\n",
    "\n",
    "# --- 1. Create a DataFrame for a professional table display ---\n",
    "df_timings = pd.DataFrame({\n",
    "    'Grid Size': [f\"{n}x{n}\" for n in grid_sizes],\n",
    "    'Matrix Dim (N)': matrix_dimensions,\n",
    "    'T_preprocess (s)': timings['preprocessing'],\n",
    "    'T_blocks_eig (s)': timings['block_eigvals'],\n",
    "    'T_symmetry_total (s)': timings['total_symmetry'],\n",
    "    'T_full_matrix (s)': timings['full_matrix']\n",
    "})\n",
    "\n",
    "# Calculate speedup\n",
    "df_timings['Speedup'] = df_timings['T_full_matrix (s)'] / df_timings['T_symmetry_total (s)']\n",
    "\n",
    "print(\"--- Performance Results ---\")\n",
    "display(df_timings.round(int(4)))\n",
    "\n",
    "\n",
    "# --- 2. Plot 1: Log-Log plot of execution time vs. matrix dimension ---\n",
    "fig, ax = plt.subplots(figsize=(10, 7))\n",
    "ax.loglog(matrix_dimensions, timings['full_matrix'], 'o-', label='Full Matrix Method')\n",
    "ax.loglog(matrix_dimensions, timings['total_symmetry'], 's-', label='Symmetry Reduction Method (Total)')\n",
    "ax.loglog(matrix_dimensions, timings['preprocessing'], '^--', label='Symmetry (Preprocessing only)', alpha=0.7)\n",
    "\n",
    "ax.set_xlabel('Matrix Dimension (N x N), where N = n*n')\n",
    "ax.set_ylabel('Execution Time (seconds)')\n",
    "ax.set_title('Performance Comparison for Laplacian Eigenvalue Calculation')\n",
    "ax.legend()\n",
    "ax.grid(True, which=\"both\", ls=\"--\")\n",
    "plt.tight_layout()\n",
    "plt.show()\n",
    "\n",
    "\n",
    "# --- 3. Plot 2: Speedup plot ---\n",
    "fig2, ax2 = plt.subplots(figsize=(10, 7))\n",
    "ax2.plot(matrix_dimensions, df_timings['Speedup'], 'o-', color='green', label='Speedup Factor')\n",
    "ax2.set_xlabel('Matrix Dimension (N x N), where N = n*n')\n",
    "ax2.set_ylabel('Speedup (T_full / T_symmetry)')\n",
    "ax2.set_title('Speedup Achieved by Symmetry Reduction Method')\n",
    "ax2.legend()\n",
    "ax2.grid(True, which=\"both\", ls=\"--\")\n",
    "# Set y-axis to start at 1, as speedup < 1 means a slowdown\n",
    "ax2.set_ylim(bottom=1) \n",
    "plt.tight_layout()\n",
    "plt.show()"
   ]
  }
 ],
 "metadata": {
  "kernelspec": {
   "display_name": "SageMath 10.4",
   "language": "sage",
   "name": "sagemath"
  },
  "language_info": {
   "codemirror_mode": {
    "name": "ipython",
    "version": 3
   },
   "file_extension": ".py",
   "mimetype": "text/x-python",
   "name": "python",
   "nbconvert_exporter": "python",
   "pygments_lexer": "ipython3",
   "version": "3.11.10"
  }
 },
 "nbformat": 4,
 "nbformat_minor": 4
}
