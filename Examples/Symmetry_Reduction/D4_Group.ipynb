{
 "cells": [
  {
   "cell_type": "code",
   "execution_count": 1,
   "id": "7ed8f7da",
   "metadata": {
    "vscode": {
     "languageId": "sage"
    }
   },
   "outputs": [],
   "source": [
    "import sys\n",
    "import os\n",
    "# Adds the project root directory to the Python path.\n",
    "# The notebook is in 'Examples/Symmetry Reduction', so we need to go up two levels.\n",
    "project_root = os.path.abspath('../..')\n",
    "if project_root not in sys.path:\n",
    "    sys.path.insert(0, project_root)"
   ]
  },
  {
   "cell_type": "code",
   "execution_count": 6,
   "id": "d9516d64",
   "metadata": {
    "vscode": {
     "languageId": "sage"
    }
   },
   "outputs": [
    {
     "name": "stdout",
     "output_type": "stream",
     "text": [
      "Original Matrix M:\n",
      " [10  2  1  2]\n",
      "[ 2 10  2  1]\n",
      "[ 1  2 10  2]\n",
      "[ 2  1  2 10]\n",
      "\n",
      "Block-Diagonal Matrix P^{-1}MP:\n",
      " [15  0  0  0]\n",
      "[ 0  7  0  0]\n",
      "[ 0  0  9  0]\n",
      "[ 0  0  0  9]\n"
     ]
    }
   ],
   "source": [
    "from pysymmetry import FiniteGroup, representation\n",
    "from sage.all import matrix, QQ\n",
    "\n",
    "# 1. Define the D4 group using its generators (a rotation and a reflection)\n",
    "# The group acts on 4 vertices labeled {1, 2, 3, 4}\n",
    "rotation = \"(1,2,3,4)\" ; reflection = \"(1,3)\"\n",
    "G = FiniteGroup([rotation, reflection], matrix=False)\n",
    "\n",
    "# 2. Define the natural permutation representation\n",
    "phi = G.natural_representation()\n",
    "\n",
    "# 3. Define a G-equivariant matrix M\n",
    "# 'a' for diagonal, 'b' for adjacent, 'c' for opposite vertices\n",
    "a, b, c = 10, 2, 1\n",
    "M = matrix(QQ, [[a, b, c, b],\n",
    "                [b, a, b, c],\n",
    "                [c, b, a, b],\n",
    "                [b, c, b, a]])\n",
    "\n",
    "# 4. Compute the symmetry-adapted basis via the main function\n",
    "P = G.base_change_matrix_new_off_filter_optimization(phi)\n",
    "\n",
    "\n",
    "# 5. Perform the block-diagonalization\n",
    "M_block_diagonal = P.inverse() * M * P\n",
    "\n",
    "# Display results\n",
    "print(\"Original Matrix M:\\n\", M)\n",
    "print(\"\\nBlock-Diagonal Matrix P^{-1}MP:\\n\", M_block_diagonal)"
   ]
  }
 ],
 "metadata": {
  "kernelspec": {
   "display_name": "SageMath 10.4",
   "language": "sage",
   "name": "sagemath"
  },
  "language_info": {
   "codemirror_mode": {
    "name": "ipython",
    "version": 3
   },
   "file_extension": ".py",
   "mimetype": "text/x-python",
   "name": "python",
   "nbconvert_exporter": "python",
   "pygments_lexer": "ipython3",
   "version": "3.11.10"
  }
 },
 "nbformat": 4,
 "nbformat_minor": 5
}
