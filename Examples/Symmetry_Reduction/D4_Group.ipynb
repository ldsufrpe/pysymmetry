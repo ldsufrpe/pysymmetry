{
 "cells": [
  {
   "cell_type": "code",
   "execution_count": 1,
   "id": "7ed8f7da",
   "metadata": {
    "vscode": {
     "languageId": "sage"
    }
   },
   "outputs": [],
   "source": [
    "import sys\n",
    "import os\n",
    "# Adds the project root directory to the Python path.\n",
    "# The notebook is in 'Examples/Symmetry Reduction', so we need to go up two levels.\n",
    "project_root = os.path.abspath('../..')\n",
    "if project_root not in sys.path:\n",
    "    sys.path.insert(0, project_root)"
   ]
  },
  {
   "cell_type": "code",
   "execution_count": 6,
   "id": "d9516d64",
   "metadata": {
    "vscode": {
     "languageId": "sage"
    }
   },
   "outputs": [
    {
     "name": "stdout",
     "output_type": "stream",
     "text": [
      "Original Matrix M:\n",
      " [10  2  1  2]\n",
      "[ 2 10  2  1]\n",
      "[ 1  2 10  2]\n",
      "[ 2  1  2 10]\n",
      "\n",
      "Block-Diagonal Matrix P^{-1}MP:\n",
      " [15  0  0  0]\n",
      "[ 0  7  0  0]\n",
      "[ 0  0  9  0]\n",
      "[ 0  0  0  9]\n"
     ]
    }
   ],
   "source": [
    "from pysymmetry import FiniteGroup, representation\n",
    "from sage.all import matrix, QQ\n",
    "\n",
    "# 1. Define the D4 group using its generators (a rotation and a reflection)\n",
    "# The group acts on 4 vertices labeled {1, 2, 3, 4}\n",
    "rotation = \"(1,2,3,4)\" ; reflection = \"(1,3)\"\n",
    "G = FiniteGroup([rotation, reflection], matrix=False)\n",
    "\n",
    "# 2. Define the natural permutation representation\n",
    "phi = G.natural_representation()\n",
    "\n",
    "# 3. Define a G-equivariant matrix M\n",
    "# 'a' for diagonal, 'b' for adjacent, 'c' for opposite vertices\n",
    "a, b, c = 10, 2, 1\n",
    "M = matrix(QQ, [[a, b, c, b],\n",
    "                [b, a, b, c],\n",
    "                [c, b, a, b],\n",
    "                [b, c, b, a]])\n",
    "\n",
    "# 4. Compute the symmetry-adapted basis via the main function\n",
    "P = G.a base_equivariant_to_blocks(phi)\n",
    "\n",
    "\n",
    "# 5. Perform the block-diagonalization\n",
    "M_block_diagonal = P.inverse() * M * P\n",
    "\n",
    "# Display results\n",
    "print(\"Original Matrix M:\\n\", M)\n",
    "print(\"\\nBlock-Diagonal Matrix P^{-1}MP:\\n\", M_block_diagonal)"
   ]
  },
  {
   "cell_type": "code",
   "execution_count": 1,
   "id": "88440ab8",
   "metadata": {
    "vscode": {
     "languageId": "sage"
    }
   },
   "outputs": [
    {
     "name": "stdout",
     "output_type": "stream",
     "text": [
      "NumPy version: 1.26.4\n",
      "SciPy version: 1.14.1\n"
     ]
    }
   ],
   "source": [
    "import numpy as np\n",
    "import scipy as sp\n",
    "print(f\"NumPy version: {np.__version__}\")\n",
    "print(f\"SciPy version: {sp.__version__}\")"
   ]
  },
  {
   "cell_type": "code",
   "execution_count": 5,
   "id": "196ece7d",
   "metadata": {
    "vscode": {
     "languageId": "sage"
    }
   },
   "outputs": [
    {
     "data": {
      "text/plain": [
       "'SageMath version 10.4, Release Date: 2024-07-19'"
      ]
     },
     "execution_count": 5,
     "metadata": {},
     "output_type": "execute_result"
    }
   ],
   "source": [
    "version()"
   ]
  },
  {
   "cell_type": "code",
   "execution_count": 7,
   "id": "ca98e419",
   "metadata": {
    "vscode": {
     "languageId": "sage"
    }
   },
   "outputs": [
    {
     "ename": "NameError",
     "evalue": "name 'python3' is not defined",
     "output_type": "error",
     "traceback": [
      "\u001b[0;31m---------------------------------------------------------------------------\u001b[0m",
      "\u001b[0;31mNameError\u001b[0m                                 Traceback (most recent call last)",
      "Cell \u001b[0;32mIn[7], line 1\u001b[0m\n\u001b[0;32m----> 1\u001b[0m \u001b[43mpython3\u001b[49m\u001b[38;5;241m.\u001b[39m__version__\n",
      "\u001b[0;31mNameError\u001b[0m: name 'python3' is not defined"
     ]
    }
   ],
   "source": [
    "python3.__version__"
   ]
  },
  {
   "cell_type": "code",
   "execution_count": 8,
   "id": "5cb1ab5b",
   "metadata": {
    "vscode": {
     "languageId": "sage"
    }
   },
   "outputs": [
    {
     "name": "stdout",
     "output_type": "stream",
     "text": [
      "3.11.10 | packaged by conda-forge | (main, Sep 22 2024, 14:10:38) [GCC 13.3.0]\n"
     ]
    }
   ],
   "source": [
    "import sys\n",
    "print(sys.version)"
   ]
  }
 ],
 "metadata": {
  "kernelspec": {
   "display_name": "SageMath 10.4",
   "language": "sage",
   "name": "sagemath"
  },
  "language_info": {
   "codemirror_mode": {
    "name": "ipython",
    "version": 3
   },
   "file_extension": ".py",
   "mimetype": "text/x-python",
   "name": "python",
   "nbconvert_exporter": "python",
   "pygments_lexer": "ipython3",
   "version": "3.11.10"
  }
 },
 "nbformat": 4,
 "nbformat_minor": 5
}
