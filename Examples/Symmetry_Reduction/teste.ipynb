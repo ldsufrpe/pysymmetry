{
 "cells": [
  {
   "cell_type": "code",
   "execution_count": 5,
   "id": "8e95bffe",
   "metadata": {
    "vscode": {
     "languageId": "sagemath"
    }
   },
   "outputs": [],
   "source": [
    "import sys\n",
    "import os\n",
    "# Adds the project root directory to the Python path.\n",
    "# The notebook is in 'Examples/Symmetry Reduction', so we need to go up two levels.\n",
    "project_root = os.path.abspath('../..')\n",
    "if project_root not in sys.path:\n",
    "    sys.path.insert(0, project_root)"
   ]
  },
  {
   "cell_type": "code",
   "execution_count": 6,
   "id": "6347e90f",
   "metadata": {
    "vscode": {
     "languageId": "sagemath"
    }
   },
   "outputs": [],
   "source": [
    "from pysymmetry import *"
   ]
  },
  {
   "cell_type": "code",
   "execution_count": 7,
   "id": "56f0c27e",
   "metadata": {
    "vscode": {
     "languageId": "sagemath"
    }
   },
   "outputs": [
    {
     "data": {
      "text/plain": [
       "[0 1 0 0]\n",
       "[0 0 1 0]\n",
       "[0 0 0 1]\n",
       "[1 0 0 0]"
      ]
     },
     "execution_count": 7,
     "metadata": {},
     "output_type": "execute_result"
    }
   ],
   "source": [
    "sage: G = FiniteGroup(CyclicPermutationGroup(4))\n",
    "sage: nat_rep = G.natural_representation()\n",
    "sage: g = G.an_element()\n",
    "sage: nat_rep(g).matrix()\n",
    "           "
   ]
  }
 ],
 "metadata": {
  "kernelspec": {
   "display_name": "SageMath 10.6",
   "language": "sage",
   "name": "sagemath"
  },
  "language_info": {
   "codemirror_mode": {
    "name": "ipython",
    "version": 3
   },
   "file_extension": ".py",
   "mimetype": "text/x-python",
   "name": "python",
   "nbconvert_exporter": "python",
   "pygments_lexer": "ipython3",
   "version": "3.11.12"
  }
 },
 "nbformat": 4,
 "nbformat_minor": 5
}
